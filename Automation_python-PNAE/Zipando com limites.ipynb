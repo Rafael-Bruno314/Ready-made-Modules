{
 "cells": [
  {
   "cell_type": "code",
   "execution_count": null,
   "id": "4c66b4b4",
   "metadata": {},
   "outputs": [],
   "source": [
    "import os\n",
    "import zipfile\n",
    "import shutil\n",
    "\n",
    "\n",
    "caminho = \"Z:\\Organizacao-Mercado\\Comprovações SREs\\Patrocínio\\Meta 2.3 - Ater OeM\\Enviar SEI 27.07 OK\\\\\"\n",
    "\n",
    "numero_da_meta = \"2.3\" #Para o nome dos zips formados\n",
    "\n",
    "pasta_do_arquivo_desse_programa = \"C:\\\\Users\\\\11020\\\\Downloads\\\\\"\n",
    "\n",
    "tamanho_limite = 20000000 #19,9 Mb\n",
    "\n",
    "# ---------------------------------------------------------------------------------------------\n",
    "\n",
    "arquivos = os.listdir(caminho)\n",
    "sre = caminho.split(\"\\\\\")[3]\n",
    "#sre = \"A que você quiser\"\n",
    "indice = 0\n",
    "num_zip = 1\n",
    "\n",
    "while True:\n",
    "    \n",
    "    if(indice == len(arquivos)): \n",
    "        raise Exception(\"Terminei!\")\n",
    "\n",
    "    with zipfile.ZipFile(caminho + \"SRE_\" + sre + \"_\" + numero_da_meta + \"_ATER 0\" + str(num_zip) + \".zip\", mode=\"w\") as arquivo_zip:\n",
    "        soma = 0\n",
    "        for arquivo in arquivos:            \n",
    "            \n",
    "            if(indice == len(arquivos)): \n",
    "                raise Exception(\"Terminei!\")\n",
    "            \n",
    "            tamanho_arquivo = os.path.getsize(caminho + arquivos[indice])\n",
    "            soma = soma + tamanho_arquivo\n",
    "            \n",
    "            if(soma < tamanho_limite):\n",
    "                if(arquivos[indice].endswith('.pdf')):\n",
    "                    print(arquivos[indice])\n",
    "                    print(\"O tamanho do arquivo é:\", tamanho_arquivo, \"bytes ou\", round(tamanho_arquivo/(1024 * 1024), 2), \"Mb\")\n",
    "                    print(\"\")\n",
    "                    \n",
    "                    shutil.move(caminho + arquivos[indice], pasta_do_arquivo_desse_programa)\n",
    "                    arquivo_zip.write(arquivos[indice])\n",
    "                    shutil.move(pasta_do_arquivo_desse_programa + arquivos[indice], caminho)\n",
    "                \n",
    "                indice += 1\n",
    "            else:\n",
    "                num_zip += 1\n",
    "                break\n",
    "    \n",
    "    print(\"-\" * 50)\n",
    "    \n",
    "\n"
   ]
  }
 ],
 "metadata": {
  "kernelspec": {
   "display_name": "Python 3 (ipykernel)",
   "language": "python",
   "name": "python3"
  },
  "language_info": {
   "codemirror_mode": {
    "name": "ipython",
    "version": 3
   },
   "file_extension": ".py",
   "mimetype": "text/x-python",
   "name": "python",
   "nbconvert_exporter": "python",
   "pygments_lexer": "ipython3",
   "version": "3.9.7"
  }
 },
 "nbformat": 4,
 "nbformat_minor": 5
}
